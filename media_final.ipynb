{
 "cells": [
  {
   "cell_type": "code",
   "execution_count": null,
   "metadata": {},
   "outputs": [],
   "source": [
    "notas = []\n",
    "final = []\n",
    "contador = 1\n",
    "\n",
    "while contador < 5:\n",
    "    notas.append(int(input(f'informe a {contador} nota: ')))\n",
    "    contador += 1\n",
    "    \n",
    "media_notas = sum(notas)/len(notas)\n",
    "\n",
    "if media_notas >= 7 :\n",
    "    print(\"Aluno Aprovado\")\n",
    "    \n",
    "else :\n",
    "    notas.append(int(input(f'informe a nota da final: ')))\n",
    "    \n",
    "    media_notas = sum(notas)/len(notas)\n",
    "    if media_notas >= 5:\n",
    "        print(f'Aprovado pela Final , com nota : {media_notas}')\n",
    "    else :\n",
    "        print(f'Reprovado pela Final ,com nota : {media_notas}')\n"
   ]
  }
 ],
 "metadata": {
  "language_info": {
   "name": "python"
  },
  "orig_nbformat": 4
 },
 "nbformat": 4,
 "nbformat_minor": 2
}
