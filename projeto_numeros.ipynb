{
 "cells": [
  {
   "cell_type": "code",
   "execution_count": 8,
   "metadata": {},
   "outputs": [
    {
     "name": "stdout",
     "output_type": "stream",
     "text": [
      "Essa e sua tentativa: 1\n",
      "O Jogador jogou :  6\n",
      "O Jogador Errou !!! o numero correto era : 2\n",
      "\n",
      "Essa e sua tentativa: 2\n",
      "O Jogador jogou :  5\n",
      "O Jogador Errou !!! o numero correto era : 10\n",
      "\n",
      "Essa e sua tentativa: 3\n",
      "O Jogador jogou :  4\n",
      "O Jogador Errou !!! o numero correto era : 6\n",
      "\n",
      "Essa e sua tentativa: 4\n",
      "O Jogador jogou :  3\n",
      "O Jogador Errou !!! o numero correto era : 5\n",
      "\n",
      "Essa e sua tentativa: 5\n",
      "O Jogador jogou :  1\n",
      "O Jogador Errou !!! o numero correto era : 4\n",
      "\n",
      "Suas Tentativas Acabaram , Voce Perdeu !!! :  5\n"
     ]
    }
   ],
   "source": [
    "import random\n",
    "\n",
    "def jogo_random():\n",
    "    \n",
    "    numero_de_tentativas = 5\n",
    "\n",
    "    for tentativa in range(1,numero_de_tentativas +1):\n",
    "       print(\"Essa e sua tentativa:\",tentativa)\n",
    "       \n",
    "       numero_jogador = int(input(\"Digite um número de 0 a 10: \"))\n",
    "        \n",
    "       numero_pc = random.randint(0,10)\n",
    "       \n",
    "       if numero_jogador == numero_pc:\n",
    "           print('O Jogador jogou : ',numero_jogador)\n",
    "           print('o Jogador Venceu !! o numero correto era :',numero_pc)\n",
    "           return\n",
    "       else:\n",
    "           print('O Jogador jogou : ',numero_jogador)\n",
    "           print('O Jogador Errou !!! o numero correto era :',numero_pc)\n",
    "           print()\n",
    "    \n",
    "    print('Suas Tentativas Acabaram , Voce Perdeu !!!')\n",
    "    \n",
    "    \n",
    "jogo_random()"
   ]
  }
 ],
 "metadata": {
  "kernelspec": {
   "display_name": "Python 3",
   "language": "python",
   "name": "python3"
  },
  "language_info": {
   "codemirror_mode": {
    "name": "ipython",
    "version": 3
   },
   "file_extension": ".py",
   "mimetype": "text/x-python",
   "name": "python",
   "nbconvert_exporter": "python",
   "pygments_lexer": "ipython3",
   "version": "3.10.6"
  },
  "orig_nbformat": 4
 },
 "nbformat": 4,
 "nbformat_minor": 2
}
